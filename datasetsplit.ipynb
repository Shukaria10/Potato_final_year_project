{
  "nbformat": 4,
  "nbformat_minor": 0,
  "metadata": {
    "kernelspec": {
      "display_name": "Python 3",
      "language": "python",
      "name": "python3"
    },
    "language_info": {
      "codemirror_mode": {
        "name": "ipython",
        "version": 3
      },
      "file_extension": ".py",
      "mimetype": "text/x-python",
      "name": "python",
      "nbconvert_exporter": "python",
      "pygments_lexer": "ipython3",
      "version": "3.8.5"
    },
    "colab": {
      "name": "datasetsplit.ipynb",
      "provenance": [],
      "collapsed_sections": [],
      "include_colab_link": true
    }
  },
  "cells": [
    {
      "cell_type": "markdown",
      "metadata": {
        "id": "view-in-github",
        "colab_type": "text"
      },
      "source": [
        "<a href=\"https://colab.research.google.com/github/Shukaria10/Potato_final_year_project/blob/main/datasetsplit.ipynb\" target=\"_parent\"><img src=\"https://colab.research.google.com/assets/colab-badge.svg\" alt=\"Open In Colab\"/></a>"
      ]
    },
    {
      "cell_type": "code",
      "metadata": {
        "colab": {
          "base_uri": "https://localhost:8080/"
        },
        "id": "rBUpylUmeSTt",
        "outputId": "64e02184-d638-4e82-ba67-fb433d634ac1"
      },
      "source": [
        "from google.colab import drive\n",
        "drive.mount('/content/drive')"
      ],
      "execution_count": 2,
      "outputs": [
        {
          "output_type": "stream",
          "text": [
            "Drive already mounted at /content/drive; to attempt to forcibly remount, call drive.mount(\"/content/drive\", force_remount=True).\n"
          ],
          "name": "stdout"
        }
      ]
    },
    {
      "cell_type": "code",
      "metadata": {
        "id": "wHYO94zGdqJm"
      },
      "source": [
        "import os, shutil\n",
        "\n",
        "# Path to the directory where the original dataset is\n",
        "original_dataset_dir = '/content/drive/MyDrive/final_year_project/Potato'\n",
        "\n",
        "# list of all plant diseases classes in the original dataset\n",
        "classes_list = os.listdir(original_dataset_dir)\n",
        "\n",
        "#Directory where you’ll store your dataset splits\n",
        "base_dir = '/content/drive/MyDrive/final_year_project/dataset_splits'\n",
        "os.mkdir(base_dir)\n",
        "\n",
        "#Directories for the training, validation, and test splits\n",
        "train_dir = os.path.join(base_dir, 'train')\n",
        "os.mkdir(train_dir)\n",
        "validation_dir = os.path.join(base_dir, 'validation')\n",
        "os.mkdir(validation_dir)\n",
        "test_dir = os.path.join(base_dir, 'test')\n",
        "os.mkdir(test_dir)\n",
        "\n",
        "\n",
        "for cls in classes_list:\n",
        "    #Directory for training pictures\n",
        "    os.mkdir(os.path.join(train_dir, cls))\n",
        "    \n",
        "    #Directory for validation pictures\n",
        "    os.mkdir(os.path.join(validation_dir, cls))\n",
        "    \n",
        "    # Directory for test pictures\n",
        "    os.mkdir(os.path.join(test_dir, cls))"
      ],
      "execution_count": 3,
      "outputs": []
    },
    {
      "cell_type": "code",
      "metadata": {
        "colab": {
          "base_uri": "https://localhost:8080/"
        },
        "id": "oazRXg2EdqJz",
        "outputId": "201c9249-7f59-4b0b-d382-71fd54ef1078"
      },
      "source": [
        "import math\n",
        "\n",
        "for cls in classes_list:\n",
        "    path = os.path.join(original_dataset_dir, cls)\n",
        "    fnames = os.listdir(path)\n",
        "    train_size = math.floor(len(fnames) * 0.8)\n",
        "    validation_size = math.floor(len(fnames) * 0.15)\n",
        "    test_size = math.floor(len(fnames) * 0.05)\n",
        "    \n",
        "    train_fnames = fnames[:train_size]\n",
        "    print(\"Train size(\",cls,\"): \", len(train_fnames))\n",
        "    for fname in train_fnames:\n",
        "        src = os.path.join(path, fname)\n",
        "        dst = os.path.join(os.path.join(train_dir, cls), fname)\n",
        "        shutil.copyfile(src, dst)\n",
        "        \n",
        "    validation_fnames = fnames[train_size:(validation_size + train_size)]\n",
        "    print(\"Validation size(\",cls,\"): \", len(validation_fnames))\n",
        "    for fname in validation_fnames:\n",
        "        src = os.path.join(path, fname)\n",
        "        dst = os.path.join(os.path.join(validation_dir, cls), fname)\n",
        "        shutil.copyfile(src, dst)\n",
        "        \n",
        "    \n",
        "    test_fnames = fnames[(train_size+validation_size):(validation_size + train_size +test_size)]\n",
        "    print(\"Test size(\",cls,\"): \", len(test_fnames))\n",
        "    for fname in test_fnames:\n",
        "        src = os.path.join(path, fname)\n",
        "        dst = os.path.join(os.path.join(test_dir, cls), fname)\n",
        "        shutil.copyfile(src, dst)"
      ],
      "execution_count": 4,
      "outputs": [
        {
          "output_type": "stream",
          "text": [
            "Train size( Potato___Early_blight ):  800\n",
            "Validation size( Potato___Early_blight ):  150\n",
            "Test size( Potato___Early_blight ):  50\n",
            "Train size( Potato___Late_blight ):  800\n",
            "Validation size( Potato___Late_blight ):  150\n",
            "Test size( Potato___Late_blight ):  50\n",
            "Train size( Potato___healthy ):  121\n",
            "Validation size( Potato___healthy ):  22\n",
            "Test size( Potato___healthy ):  7\n"
          ],
          "name": "stdout"
        }
      ]
    },
    {
      "cell_type": "code",
      "metadata": {
        "id": "cl2y3iOVdqJ4"
      },
      "source": [
        ""
      ],
      "execution_count": null,
      "outputs": []
    }
  ]
}